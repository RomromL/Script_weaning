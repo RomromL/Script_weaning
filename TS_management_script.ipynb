{
 "cells": [
  {
   "cell_type": "code",
   "execution_count": 1,
   "metadata": {},
   "outputs": [
    {
     "name": "stdout",
     "output_type": "stream",
     "text": [
      "Python version: 3.9.16 (main, Mar  8 2023, 10:39:24) [MSC v.1916 64 bit (AMD64)]\n",
      "NumPy version: 1.23.5\n",
      "pandas version: 1.5.3\n",
      "matplotlib: 3.7.1\n",
      "TSfresh: 0.20.0\n",
      "Sklearn version: 1.1.3\n",
      "Xgboost version: 1.5.0\n",
      "Lightgbm version: 2.2.3\n"
     ]
    },
    {
     "name": "stderr",
     "output_type": "stream",
     "text": [
      "c:\\Users\\Windows\\miniconda3\\lib\\site-packages\\xgboost\\compat.py:36: FutureWarning: pandas.Int64Index is deprecated and will be removed from pandas in a future version. Use pandas.Index with the appropriate dtype instead.\n",
      "  from pandas import MultiIndex, Int64Index\n"
     ]
    }
   ],
   "source": [
    "%run library_TS.py"
   ]
  },
  {
   "attachments": {},
   "cell_type": "markdown",
   "metadata": {},
   "source": [
    "# DELETES THE FIRST LINES OF THE TXT FILES"
   ]
  },
  {
   "cell_type": "code",
   "execution_count": 2,
   "metadata": {},
   "outputs": [],
   "source": [
    "def delete_lines(p) : \n",
    "    \"\"\"Delete only the first useless lines of the txt file (like patient's name, variable's name, line break...)\"\"\"\n",
    "    path = p # Definition of the path containing all the files\n",
    "    files = os.listdir(path) # Creation of the list containing all the files name\n",
    "    os.chdir(path) # Defintion of the path as a current path\n",
    "    for filename in files : \n",
    "        with open(filename, 'r') as f : \n",
    "        # encoding='latin-1'\n",
    "            lines = f.readlines()\n",
    "        with open(filename, 'w') as fp:\n",
    "        # iterate each line\n",
    "            for number, line in enumerate(lines):\n",
    "                # delete line 0 to 5. or pass any Nth line you want to remove\n",
    "                if number not in [0,1,2,3,4,5]:\n",
    "                    fp.write(line)    "
   ]
  },
  {
   "cell_type": "code",
   "execution_count": 14,
   "metadata": {},
   "outputs": [],
   "source": [
    "delete_lines(\"C:/Users/Windows/Documents/Essai/Ventilation/VT/\")"
   ]
  },
  {
   "attachments": {},
   "cell_type": "markdown",
   "metadata": {},
   "source": [
    "# TRUNCATE TIME SERIES AND MAKE SOME STATISTICAL ANALYSIS"
   ]
  },
  {
   "attachments": {},
   "cell_type": "markdown",
   "metadata": {},
   "source": [
    "The files containes more lines as we like. So this function it's developped to conserve only the time interval of interest (like 2 days)."
   ]
  },
  {
   "cell_type": "code",
   "execution_count": 18,
   "metadata": {},
   "outputs": [],
   "source": [
    "# Import the dataframe contening the Id and date point \n",
    "Ref = pd.read_excel(\"//wsl.localhost/Ubuntu/home/romain/GITHUB/Extub-IA/BDD/Target.xls\", dtype={'ID': 'str'}, #ID to str, because the ID have a little different format like this : 0001, 0002\n",
    "                    parse_dates=['Date_sevrage'])\n",
    "\n",
    "# Creation of a dictionnary containing the ID and the date point\n",
    "data = {\n",
    "    \"ID\":Ref[\"ID\"],\n",
    "    \"Date point\": Ref[\"Date_sevrage\"]\n",
    "}\n",
    "# Convert it in a Pandas DataFrame\n",
    "df = pd.DataFrame(data)\n",
    "\n",
    "# Definition of the folder containing the TS.\n",
    "source_dir = \"C:/Users/Windows/Documents/Essai/Ventilation/\"\n",
    "\n",
    "# Definition of the time delta for the truncation, here 2 days\n",
    "td = pd.Timedelta(days=2)\n",
    "\n",
    "# Browse the different folder and subfolder\n",
    "for root, dirs, files in os.walk(source_dir):\n",
    "    for dir in dirs:\n",
    "        # Browse all the text file in the subfolder\n",
    "        for file in os.listdir(os.path.join(root, dir)):\n",
    "            if file.endswith('.txt'):\n",
    "                # Complete path of the old file\n",
    "                old_file = os.path.join(root, dir, file)\n",
    "                # Complete path of the new file\n",
    "                new_file = os.path.join(root.replace(\"Ventilation\", \"Ventilation_2H\"), dir, file)\n",
    "                try :\n",
    "                # Modification of the contains\n",
    "                    subdata = pd.read_csv(\n",
    "                                old_file,\n",
    "                                sep=\"\\s+\",  # columns are separated by spaces\n",
    "                                header=None,  # there's no header information\n",
    "                                parse_dates=[[0, 1]],  # the first and second columns should be combined and converted to datetime objects\n",
    "                                #infer_datetime_format=True,\n",
    "                                decimal=\",\",\n",
    "                                #parse_dates=['0_1'],\n",
    "                                dayfirst=True,\n",
    "                                on_bad_lines='skip'\n",
    "                            )\n",
    "                    subdata[\"0_1\"] = pd.to_datetime(subdata[\"0_1\"], errors='coerce')\n",
    "                    date = df.loc[df['ID'] == file[:4], 'Date point'].item()\n",
    "                # Only if there is no missing values\n",
    "                    if date != \"na\":\n",
    "                        date = pd.to_datetime(date)\n",
    "                        mask = (subdata[\"0_1\"] > date - td) & (subdata[\"0_1\"] <= date)\n",
    "                        subdata.loc[mask].to_csv(new_file, index = False, header = False, sep='\\t')\n",
    "                # Add a message if the file is empty\n",
    "                except EmptyDataError:\n",
    "                    print(\"fichier vide\")\n",
    "\n",
    "\n"
   ]
  }
 ],
 "metadata": {
  "kernelspec": {
   "display_name": "Python 3",
   "language": "python",
   "name": "python3"
  },
  "language_info": {
   "codemirror_mode": {
    "name": "ipython",
    "version": 3
   },
   "file_extension": ".py",
   "mimetype": "text/x-python",
   "name": "python",
   "nbconvert_exporter": "python",
   "pygments_lexer": "ipython3",
   "version": "3.9.16"
  },
  "orig_nbformat": 4
 },
 "nbformat": 4,
 "nbformat_minor": 2
}
